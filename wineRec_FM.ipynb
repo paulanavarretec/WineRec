{
  "nbformat": 4,
  "nbformat_minor": 0,
  "metadata": {
    "colab": {
      "name": "wineRec-OneHotEncoding.ipynb",
      "version": "0.3.2",
      "provenance": [],
      "toc_visible": true
    },
    "kernelspec": {
      "name": "python3",
      "display_name": "Python 3"
    }
  },
  "cells": [
    {
      "metadata": {
        "id": "zIrB1qdq90HC",
        "colab_type": "code",
        "colab": {}
      },
      "cell_type": "code",
      "source": [
        "# test \n",
        "\n",
        "import numpy as np\n",
        "# Example dummy data from Rendle 2010 \n",
        "# http://www.csie.ntu.edu.tw/~b97053/paper/Rendle2010FM.pdf\n",
        "# Variables categoricas (Users, Wines, Last Rated) pasaron por one-hot-encoding \n",
        "\n",
        "x_data = np.matrix([\n",
        "#     Users  |     Wines      |    Wine Ratings    | Time | Last Wines Rated\n",
        "#    A  B  C | W1  W2  W3  W4 | W1   W2   W3   W4  |      | W1  W2  W3  W3\n",
        "    [1, 0, 0,  1,  0,  0,  0,   0.3, 0.3, 0.3, 0,     13,   0,  0,  0,  0 ],\n",
        "    [1, 0, 0,  0,  1,  0,  0,   0.3, 0.3, 0.3, 0,     14,   1,  0,  0,  0 ],\n",
        "    [1, 0, 0,  0,  0,  1,  0,   0.3, 0.3, 0.3, 0,     16,   0,  1,  0,  0 ],\n",
        "    [0, 1, 0,  0,  0,  1,  0,   0,   0,   0.5, 0.5,   5,    0,  0,  0,  0 ],\n",
        "    [0, 1, 0,  0,  0,  0,  1,   0,   0,   0.5, 0.5,   8,    0,  0,  1,  0 ],\n",
        "    [0, 0, 1,  1,  0,  0,  0,   0.5, 0,   0.5, 0,     9,    0,  0,  0,  0 ],\n",
        "    [0, 0, 1,  0,  0,  1,  0,   0.5, 0,   0.5, 0,     12,   1,  0,  0,  0 ]\n",
        "])\n",
        "\n",
        "# ratings\n",
        "y_data = np.array([5, 3, 1, 4, 5, 1, 5])\n",
        "\n",
        "# Agregamos un eje para que funcione Tensorflow.\n",
        "y_data.shape += (1, )\n",
        "\n",
        "import tensorflow as tf\n",
        "n, p = x_data.shape\n",
        "\n",
        "# numero de latent factors\n",
        "k = 5\n",
        "\n",
        "# design matrix\n",
        "X = tf.placeholder('float', shape=[n, p])\n",
        "# target vector\n",
        "y = tf.placeholder('float', shape=[n, 1])\n",
        "\n",
        "# bias y weights\n",
        "w0 = tf.Variable(tf.zeros([1]))\n",
        "W = tf.Variable(tf.zeros([p]))\n",
        "\n",
        "# interaction factors, inicializados de forma aleatoria \n",
        "V = tf.Variable(tf.random_normal([k, p], stddev=0.01))\n",
        "\n",
        "# estimación de y, inicializada en 0.\n",
        "y_hat = tf.Variable(tf.zeros([n, 1]))"
      ],
      "execution_count": 0,
      "outputs": []
    },
    {
      "metadata": {
        "id": "sBsXhd7TEDL-",
        "colab_type": "text"
      },
      "cell_type": "markdown",
      "source": [
        "Usamos placeholders para los inputs y targets. Los datos actuales se asignarán en el runtime de la sesión. X e Y no serán modificados por el backend; Usamos variables para almacenar bias, weights y factor layers. Estos son los parámetros que se actualizarán al ajustar el modelo.\n",
        "\n",
        "En el siguiente código, computamos WX y usamos reduce_sum() para agregar las filas del Tensor resultante (axis 1). keep_dims está seteado en True para asegurar que las dimensiones input/output se respeten."
      ]
    },
    {
      "metadata": {
        "id": "YSjfrLr4Kh_d",
        "colab_type": "code",
        "colab": {}
      },
      "cell_type": "code",
      "source": [
        "linear_terms = tf.add(w0,\n",
        "        \ttf.reduce_sum(\n",
        "          tf.multiply(W, X), 1, keepdims=True))"
      ],
      "execution_count": 0,
      "outputs": []
    },
    {
      "metadata": {
        "id": "N9zqR5c_LS9l",
        "colab_type": "text"
      },
      "cell_type": "markdown",
      "source": [
        "En chunk anterior implementamos simplemente una regresion lineal. Hacemos lo mismo con los términos de interacción."
      ]
    },
    {
      "metadata": {
        "id": "hB2KZfheLRXD",
        "colab_type": "code",
        "colab": {
          "base_uri": "https://localhost:8080/",
          "height": 87
        },
        "outputId": "a8233ce2-7825-4130-f1e2-5e265f6858f9"
      },
      "cell_type": "code",
      "source": [
        "interactions = (tf.multiply(0.5,\n",
        "                tf.reduce_sum(\n",
        "                    tf.subtract(\n",
        "                        tf.pow( tf.matmul(X, tf.transpose(V)), 2),\n",
        "                        tf.matmul(tf.pow(X, 2), tf.transpose(tf.pow(V, 2)))),\n",
        "                    1, keep_dims=True)))"
      ],
      "execution_count": 4,
      "outputs": [
        {
          "output_type": "stream",
          "text": [
            "WARNING:tensorflow:From <ipython-input-4-1b021542af59>:6: calling reduce_sum (from tensorflow.python.ops.math_ops) with keep_dims is deprecated and will be removed in a future version.\n",
            "Instructions for updating:\n",
            "keep_dims is deprecated, use keepdims instead\n"
          ],
          "name": "stdout"
        }
      ]
    },
    {
      "metadata": {
        "id": "G6tg04B3M4VP",
        "colab_type": "text"
      },
      "cell_type": "markdown",
      "source": [
        "Y agregamos todo para obtener el target estimado."
      ]
    },
    {
      "metadata": {
        "id": "Sgi21PLdNAKK",
        "colab_type": "code",
        "colab": {}
      },
      "cell_type": "code",
      "source": [
        "y_hat = tf.add(linear_terms, interactions)"
      ],
      "execution_count": 0,
      "outputs": []
    },
    {
      "metadata": {
        "id": "OXHMxDLFNSX6",
        "colab_type": "text"
      },
      "cell_type": "markdown",
      "source": [
        "Como estamos resolviendo un problema de regresion, aprendemos los parámetros del modelo minimizando la suma de los residuos cuadráticos como función de pérdida. También agregamos un término de regularización para prevenir overfitting."
      ]
    },
    {
      "metadata": {
        "id": "4vBmJRc6OW0H",
        "colab_type": "code",
        "colab": {}
      },
      "cell_type": "code",
      "source": [
        "# Función de pérdida como suma de cuadrados regularizada L2  sobre W y V\n",
        "lambda_w = tf.constant(0.001, name='lambda_w')\n",
        "lambda_v = tf.constant(0.001, name='lambda_v')\n",
        "\n",
        "l2_norm = (tf.reduce_sum(\n",
        "            tf.add(\n",
        "                tf.multiply(lambda_w, tf.pow(W, 2)),\n",
        "                tf.multiply(lambda_v, tf.pow(V, 2)))))\n",
        "\n",
        "error = tf.reduce_mean(tf.square(tf.subtract(y, y_hat)))\n",
        "loss = tf.add(error, l2_norm)"
      ],
      "execution_count": 0,
      "outputs": []
    },
    {
      "metadata": {
        "id": "T4zLA3UfOOzI",
        "colab_type": "text"
      },
      "cell_type": "markdown",
      "source": [
        "Para entrenar el modelo declamos un optimizador y minimizamos la función de pérdida."
      ]
    },
    {
      "metadata": {
        "id": "t_eu56JsPJEd",
        "colab_type": "code",
        "colab": {}
      },
      "cell_type": "code",
      "source": [
        "eta = tf.constant(0.1)\n",
        "optimizer = tf.train.AdagradOptimizer(eta).minimize(loss)"
      ],
      "execution_count": 0,
      "outputs": []
    },
    {
      "metadata": {
        "id": "goTSCjFIPaCN",
        "colab_type": "text"
      },
      "cell_type": "markdown",
      "source": [
        "Estamos listos para obtener el grafo y desplegarlo en el backend de Tensorflow. Usamos pythos context manager pata manejar la sesion."
      ]
    },
    {
      "metadata": {
        "id": "aEH0ZLCzPxaF",
        "colab_type": "code",
        "outputId": "ada0f5a5-4dba-4d92-bc08-354044766dc5",
        "colab": {
          "base_uri": "https://localhost:8080/",
          "height": 468
        }
      },
      "cell_type": "code",
      "source": [
        "# Muchas Iteraciones\n",
        "N_EPOCHS = 1000\n",
        "\n",
        "# Desplegar grafo\n",
        "init = tf.global_variables_initializer()\n",
        "with tf.Session() as sess:\n",
        "    sess.run(init)\n",
        "\n",
        "    for epoch in range(N_EPOCHS):\n",
        "        indices = np.arange(n)\n",
        "        np.random.shuffle(indices)\n",
        "        x_data, y_data = x_data[indices], y_data[indices]\n",
        "        sess.run(optimizer, feed_dict={X: x_data, y: y_data})\n",
        "\n",
        "    print('MSE: ', sess.run(error, feed_dict={X: x_data, y: y_data}))\n",
        "    print('Loss (regularized error):', sess.run(loss, feed_dict={X: x_data, y: y_data}))\n",
        "    print('Predictions:', sess.run(y_hat, feed_dict={X: x_data, y: y_data}))\n",
        "    print('Learnt weights:', sess.run(W, feed_dict={X: x_data, y: y_data}))\n",
        "    print('Learnt factors:', sess.run(V, feed_dict={X: x_data, y: y_data}))"
      ],
      "execution_count": 9,
      "outputs": [
        {
          "output_type": "stream",
          "text": [
            "MSE:  0.009058842\n",
            "Loss (regularized error): 0.012352985\n",
            "Predictions: [[4.9134507 ]\n",
            " [0.8834113 ]\n",
            " [2.8877802 ]\n",
            " [0.94780743]\n",
            " [4.899725  ]\n",
            " [4.8810534 ]\n",
            " [3.9470143 ]]\n",
            "Learnt weights: [ 0.1073296   0.19500588 -0.05508566  0.01161111 -0.04774291  0.19293357\n",
            "  0.1013393   0.01571284  0.06099707  0.09444442  0.14801686  0.108797\n",
            "  0.15124144 -0.15934798  0.1013393   0.        ]\n",
            "Learnt factors: [[ 0.18526642  0.10820723 -0.2842518   0.15335539 -0.46750578  0.35297954\n",
            "  -0.0352198  -0.03085277  0.17319572  0.03563618  0.09997714  0.28912053\n",
            "   0.29515004 -0.54035366 -0.0388333  -0.00266565]\n",
            " [ 0.0598817   0.2097321  -0.06389549  0.06335289 -0.159418    0.13162969\n",
            "   0.07834444 -0.00188725  0.03313552  0.02868493  0.18614493  0.18674748\n",
            "   0.14345922 -0.33916256  0.08197381 -0.00210224]\n",
            " [ 0.03983677  0.15426078 -0.11922389  0.04991257 -0.12058035  0.07039631\n",
            "   0.07574358 -0.02698277 -0.01795151  0.01485645  0.12877299  0.10219675\n",
            "   0.04944892 -0.26571015  0.06601847 -0.00940343]\n",
            " [ 0.06960254  0.23355229 -0.07074779  0.08309474 -0.14491822  0.15042605\n",
            "   0.07111079  0.006893    0.04303323  0.0520646   0.21638846  0.19119029\n",
            "   0.14236547 -0.33511448  0.07587723 -0.00959138]\n",
            " [ 0.11796672  0.25715452 -0.05154034  0.11841529 -0.13196039  0.16898067\n",
            "   0.10941103  0.02274829  0.04993812  0.07323138  0.23121107  0.19849981\n",
            "   0.17690323 -0.34285086  0.1097735  -0.00824511]]\n"
          ],
          "name": "stdout"
        }
      ]
    },
    {
      "metadata": {
        "id": "J8aB9XdbSM9f",
        "colab_type": "text"
      },
      "cell_type": "markdown",
      "source": [
        "En cada iteración (hasta N_EPOCHS) ejecutamos el optimizador, el cual recalcula los parametros del modelo por el método de descenso del gradiente. Notar que estamos moviendo datos desde el espacio de memoria de Python al de backend C++ de Tensorflow  a través de feed_dict={}.\n",
        "Como estamos trabajando con un set reducido de datos exprimentales podemos entregar el dataset todo de una vez. En la práctica, querremos trabajar con mini batches (ej. usando un generador sobre el input). Podemos mezclar los datos (np.random.shuffle) para evitar sesgar el gradiente."
      ]
    },
    {
      "metadata": {
        "id": "-nH_62KrToPL",
        "colab_type": "text"
      },
      "cell_type": "markdown",
      "source": [
        "# Experimentos"
      ]
    },
    {
      "metadata": {
        "id": "SxGWlDpwXfeK",
        "colab_type": "text"
      },
      "cell_type": "markdown",
      "source": [
        "Para setear un benchmark  del performance en general del modelo, entrenamos y testeamos en el dataset porcionado en training y test (70%-30%). El objetivo es predecir el rating para cada vino. Luego del aplicar one-hot-encoding a las variables categóricas, obtendemos una design matrix de 90570×2623 [Corregir] para el training set, y de 90570×2623[Corregir] para el test set.\n"
      ]
    },
    {
      "metadata": {
        "id": "L6D3VjZOcKpg",
        "colab_type": "text"
      },
      "cell_type": "markdown",
      "source": [
        "## Representación para el training"
      ]
    },
    {
      "metadata": {
        "id": "d7jfLXFOcq4L",
        "colab_type": "text"
      },
      "cell_type": "markdown",
      "source": [
        "Obtenemos un subset pequeño del dataset desde http://www.cellartracker.com, obtenemos los archivos ........\n",
        "\n",
        "La forma más facil de utilizar esta clase es representando la training data como listas de Python dict objects, donde los dict elements mapean las variables categóricas y numericas de cada intancia a sus valores. Luego usamos DictVectorizer de sklearn  para convertirlas en una disign matrix encodeada con one-of-K or “one-hot” coding.\n",
        "\n",
        "Un pequeño ejemplo:"
      ]
    },
    {
      "metadata": {
        "id": "92ZVGyqkoh_q",
        "colab_type": "code",
        "outputId": "fb5425d2-2347-4e66-e2a6-529483cdedab",
        "colab": {
          "resources": {
            "http://localhost:8080/nbextensions/google.colab/files.js": {
              "data": "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",
              "ok": true,
              "headers": [
                [
                  "content-type",
                  "application/javascript"
                ]
              ],
              "status": 200,
              "status_text": ""
            }
          },
          "base_uri": "https://localhost:8080/",
          "height": 73
        }
      },
      "cell_type": "code",
      "source": [
        "import numpy as np\n",
        "import pandas as pd\n",
        "\n",
        "from google.colab import files\n",
        "uploaded = files.upload()\n"
      ],
      "execution_count": 11,
      "outputs": [
        {
          "output_type": "display_data",
          "data": {
            "text/html": [
              "\n",
              "     <input type=\"file\" id=\"files-fb7e9649-37c6-4c13-bee2-74f2f7604557\" name=\"files[]\" multiple disabled />\n",
              "     <output id=\"result-fb7e9649-37c6-4c13-bee2-74f2f7604557\">\n",
              "      Upload widget is only available when the cell has been executed in the\n",
              "      current browser session. Please rerun this cell to enable.\n",
              "      </output>\n",
              "      <script src=\"/nbextensions/google.colab/files.js\"></script> "
            ],
            "text/plain": [
              "<IPython.core.display.HTML object>"
            ]
          },
          "metadata": {
            "tags": []
          }
        },
        {
          "output_type": "stream",
          "text": [
            "Saving Reviews.csv to Reviews (1).csv\n"
          ],
          "name": "stdout"
        }
      ]
    },
    {
      "metadata": {
        "id": "L8gyNQsY83so",
        "colab_type": "code",
        "outputId": "27b00326-9ae1-4301-9c6c-daac79d8c0b2",
        "colab": {
          "base_uri": "https://localhost:8080/",
          "height": 885
        }
      },
      "cell_type": "code",
      "source": [
        "reviews = pd.read_csv('Reviews.csv',\n",
        "                         sep=';',\n",
        "                         names = ['userID','review', 'review_URL','score','sentiment','date', \n",
        "                                  'vintage', 'type', 'producer', 'variety', 'designation', 'vineyard', \n",
        "                                  'country', 'region', 'subregion', 'appellation', 'price_level'],\n",
        "                         header=0)\n",
        "\n",
        "\n",
        "print(\"Matrix size\",reviews.shape)\n",
        "\n",
        "# view columns using df.columns\n",
        "print(\"Column Names:\",reviews.columns)\n",
        "\n",
        "print(reviews.dtypes)\n",
        "\n",
        "\n",
        "#reviews.head()\n",
        "reviews.tail()\n"
      ],
      "execution_count": 14,
      "outputs": [
        {
          "output_type": "stream",
          "text": [
            "Matrix size (20000, 17)\n",
            "Column Names: Index(['userID', 'review', 'review_URL', 'score', 'sentiment', 'date',\n",
            "       'vintage', 'type', 'producer', 'variety', 'designation', 'vineyard',\n",
            "       'country', 'region', 'subregion', 'appellation', 'price_level'],\n",
            "      dtype='object')\n",
            "userID          object\n",
            "review          object\n",
            "review_URL      object\n",
            "score          float64\n",
            "sentiment       object\n",
            "date            object\n",
            "vintage        float64\n",
            "type            object\n",
            "producer        object\n",
            "variety         object\n",
            "designation     object\n",
            "vineyard        object\n",
            "country         object\n",
            "region          object\n",
            "subregion       object\n",
            "appellation     object\n",
            "price_level      int64\n",
            "dtype: object\n"
          ],
          "name": "stdout"
        },
        {
          "output_type": "execute_result",
          "data": {
            "text/html": [
              "<div>\n",
              "<style scoped>\n",
              "    .dataframe tbody tr th:only-of-type {\n",
              "        vertical-align: middle;\n",
              "    }\n",
              "\n",
              "    .dataframe tbody tr th {\n",
              "        vertical-align: top;\n",
              "    }\n",
              "\n",
              "    .dataframe thead th {\n",
              "        text-align: right;\n",
              "    }\n",
              "</style>\n",
              "<table border=\"1\" class=\"dataframe\">\n",
              "  <thead>\n",
              "    <tr style=\"text-align: right;\">\n",
              "      <th></th>\n",
              "      <th>userID</th>\n",
              "      <th>review</th>\n",
              "      <th>review_URL</th>\n",
              "      <th>score</th>\n",
              "      <th>sentiment</th>\n",
              "      <th>date</th>\n",
              "      <th>vintage</th>\n",
              "      <th>type</th>\n",
              "      <th>producer</th>\n",
              "      <th>variety</th>\n",
              "      <th>designation</th>\n",
              "      <th>vineyard</th>\n",
              "      <th>country</th>\n",
              "      <th>region</th>\n",
              "      <th>subregion</th>\n",
              "      <th>appellation</th>\n",
              "      <th>price_level</th>\n",
              "    </tr>\n",
              "  </thead>\n",
              "  <tbody>\n",
              "    <tr>\n",
              "      <th>19995</th>\n",
              "      <td>Anonymous</td>\n",
              "      <td>Very sweet extracted wine. This was drinakable...</td>\n",
              "      <td>https://www.cellartracker.com/notes.asp?iWine=...</td>\n",
              "      <td>82.0</td>\n",
              "      <td>Anonymous wrote:</td>\n",
              "      <td>11/27/2006 - \\nAnonymous wrote: \\n\\n82 Points</td>\n",
              "      <td>2004.0</td>\n",
              "      <td>Red</td>\n",
              "      <td>Mad Dogs &amp; English Men</td>\n",
              "      <td>Red Blend</td>\n",
              "      <td>NaN</td>\n",
              "      <td>NaN</td>\n",
              "      <td>Spain</td>\n",
              "      <td>Extremadura</td>\n",
              "      <td>NaN</td>\n",
              "      <td>Vino de la Tierra Extremadura</td>\n",
              "      <td>1</td>\n",
              "    </tr>\n",
              "    <tr>\n",
              "      <th>19996</th>\n",
              "      <td>msinger</td>\n",
              "      <td>This wine was nothing special - a pizza wine f...</td>\n",
              "      <td>https://www.cellartracker.com/notes.asp?iWine=...</td>\n",
              "      <td>NaN</td>\n",
              "      <td>msinger wrote:</td>\n",
              "      <td>6/28/2006 - \\nmsinger wrote:</td>\n",
              "      <td>2004.0</td>\n",
              "      <td>Red</td>\n",
              "      <td>Mad Dogs &amp; English Men</td>\n",
              "      <td>Red Blend</td>\n",
              "      <td>NaN</td>\n",
              "      <td>NaN</td>\n",
              "      <td>Spain</td>\n",
              "      <td>Extremadura</td>\n",
              "      <td>NaN</td>\n",
              "      <td>Vino de la Tierra Extremadura</td>\n",
              "      <td>1</td>\n",
              "    </tr>\n",
              "    <tr>\n",
              "      <th>19997</th>\n",
              "      <td>jrglm</td>\n",
              "      <td>Yuck</td>\n",
              "      <td>https://www.cellartracker.com/notes.asp?iWine=...</td>\n",
              "      <td>75.0</td>\n",
              "      <td>jrglm wrote:</td>\n",
              "      <td>3/22/2006 - \\njrglm wrote: \\n\\n75 Points</td>\n",
              "      <td>2004.0</td>\n",
              "      <td>Red</td>\n",
              "      <td>Mad Dogs &amp; English Men</td>\n",
              "      <td>Red Blend</td>\n",
              "      <td>NaN</td>\n",
              "      <td>NaN</td>\n",
              "      <td>Spain</td>\n",
              "      <td>Extremadura</td>\n",
              "      <td>NaN</td>\n",
              "      <td>Vino de la Tierra Extremadura</td>\n",
              "      <td>1</td>\n",
              "    </tr>\n",
              "    <tr>\n",
              "      <th>19998</th>\n",
              "      <td>bottlestopper</td>\n",
              "      <td>yuck! Old and well past its best</td>\n",
              "      <td>https://www.cellartracker.com/notes.asp?iWine=...</td>\n",
              "      <td>NaN</td>\n",
              "      <td>bottlestopper wrote:</td>\n",
              "      <td>7/10/2011 - \\nbottlestopper wrote:</td>\n",
              "      <td>2003.0</td>\n",
              "      <td>Red</td>\n",
              "      <td>Mad Dogs &amp; English Men</td>\n",
              "      <td>Red Blend</td>\n",
              "      <td>NaN</td>\n",
              "      <td>NaN</td>\n",
              "      <td>Spain</td>\n",
              "      <td>Extremadura</td>\n",
              "      <td>NaN</td>\n",
              "      <td>Vino de la Tierra Extremadura</td>\n",
              "      <td>1</td>\n",
              "    </tr>\n",
              "    <tr>\n",
              "      <th>19999</th>\n",
              "      <td>Slipknot</td>\n",
              "      <td>whatever</td>\n",
              "      <td>https://www.cellartracker.com/notes.asp?iWine=...</td>\n",
              "      <td>80.0</td>\n",
              "      <td>Slipknot wrote:</td>\n",
              "      <td>11/15/2006 - \\nSlipknot wrote: \\n\\n80 Points</td>\n",
              "      <td>2003.0</td>\n",
              "      <td>Red</td>\n",
              "      <td>Mad Dogs &amp; English Men</td>\n",
              "      <td>Red Blend</td>\n",
              "      <td>NaN</td>\n",
              "      <td>NaN</td>\n",
              "      <td>Spain</td>\n",
              "      <td>Extremadura</td>\n",
              "      <td>NaN</td>\n",
              "      <td>Vino de la Tierra Extremadura</td>\n",
              "      <td>1</td>\n",
              "    </tr>\n",
              "  </tbody>\n",
              "</table>\n",
              "</div>"
            ],
            "text/plain": [
              "              userID                                             review  \\\n",
              "19995      Anonymous  Very sweet extracted wine. This was drinakable...   \n",
              "19996        msinger  This wine was nothing special - a pizza wine f...   \n",
              "19997          jrglm                                               Yuck   \n",
              "19998  bottlestopper                   yuck! Old and well past its best   \n",
              "19999       Slipknot                                           whatever   \n",
              "\n",
              "                                              review_URL  score  \\\n",
              "19995  https://www.cellartracker.com/notes.asp?iWine=...   82.0   \n",
              "19996  https://www.cellartracker.com/notes.asp?iWine=...    NaN   \n",
              "19997  https://www.cellartracker.com/notes.asp?iWine=...   75.0   \n",
              "19998  https://www.cellartracker.com/notes.asp?iWine=...    NaN   \n",
              "19999  https://www.cellartracker.com/notes.asp?iWine=...   80.0   \n",
              "\n",
              "                  sentiment                                           date  \\\n",
              "19995      Anonymous wrote:  11/27/2006 - \\nAnonymous wrote: \\n\\n82 Points   \n",
              "19996        msinger wrote:                   6/28/2006 - \\nmsinger wrote:   \n",
              "19997          jrglm wrote:       3/22/2006 - \\njrglm wrote: \\n\\n75 Points   \n",
              "19998  bottlestopper wrote:             7/10/2011 - \\nbottlestopper wrote:   \n",
              "19999       Slipknot wrote:   11/15/2006 - \\nSlipknot wrote: \\n\\n80 Points   \n",
              "\n",
              "       vintage type                producer    variety designation vineyard  \\\n",
              "19995   2004.0  Red  Mad Dogs & English Men  Red Blend         NaN      NaN   \n",
              "19996   2004.0  Red  Mad Dogs & English Men  Red Blend         NaN      NaN   \n",
              "19997   2004.0  Red  Mad Dogs & English Men  Red Blend         NaN      NaN   \n",
              "19998   2003.0  Red  Mad Dogs & English Men  Red Blend         NaN      NaN   \n",
              "19999   2003.0  Red  Mad Dogs & English Men  Red Blend         NaN      NaN   \n",
              "\n",
              "      country       region subregion                    appellation  \\\n",
              "19995   Spain  Extremadura       NaN  Vino de la Tierra Extremadura   \n",
              "19996   Spain  Extremadura       NaN  Vino de la Tierra Extremadura   \n",
              "19997   Spain  Extremadura       NaN  Vino de la Tierra Extremadura   \n",
              "19998   Spain  Extremadura       NaN  Vino de la Tierra Extremadura   \n",
              "19999   Spain  Extremadura       NaN  Vino de la Tierra Extremadura   \n",
              "\n",
              "       price_level  \n",
              "19995            1  \n",
              "19996            1  \n",
              "19997            1  \n",
              "19998            1  \n",
              "19999            1  "
            ]
          },
          "metadata": {
            "tags": []
          },
          "execution_count": 14
        }
      ]
    },
    {
      "metadata": {
        "id": "PgeMuzDqr1ux",
        "colab_type": "code",
        "outputId": "878e81a7-1702-489f-8af7-cb48b147913c",
        "colab": {
          "base_uri": "https://localhost:8080/",
          "height": 675
        }
      },
      "cell_type": "code",
      "source": [
        "# categorical data using df.select_dtypes() La idea es poner una dummy por cada categoria\n",
        "reviews_categorical = reviews.select_dtypes(include=[object])\n",
        "\n",
        "# view columns using df.columns\n",
        "print(\"Column Names:\",reviews_categorical.columns)\n",
        "\n",
        "reviews['userID'] = reviews['userID'].astype('str')\n",
        "print(reviews.dtypes)\n",
        "\n",
        "reviews_categorical.tail(3)"
      ],
      "execution_count": 16,
      "outputs": [
        {
          "output_type": "stream",
          "text": [
            "Column Names: Index(['userID', 'review', 'review_URL', 'sentiment', 'date', 'type',\n",
            "       'producer', 'variety', 'designation', 'vineyard', 'country', 'region',\n",
            "       'subregion', 'appellation'],\n",
            "      dtype='object')\n",
            "userID          object\n",
            "review          object\n",
            "review_URL      object\n",
            "score          float64\n",
            "sentiment       object\n",
            "date            object\n",
            "vintage        float64\n",
            "type            object\n",
            "producer        object\n",
            "variety         object\n",
            "designation     object\n",
            "vineyard        object\n",
            "country         object\n",
            "region          object\n",
            "subregion       object\n",
            "appellation     object\n",
            "price_level      int64\n",
            "dtype: object\n"
          ],
          "name": "stdout"
        },
        {
          "output_type": "execute_result",
          "data": {
            "text/html": [
              "<div>\n",
              "<style scoped>\n",
              "    .dataframe tbody tr th:only-of-type {\n",
              "        vertical-align: middle;\n",
              "    }\n",
              "\n",
              "    .dataframe tbody tr th {\n",
              "        vertical-align: top;\n",
              "    }\n",
              "\n",
              "    .dataframe thead th {\n",
              "        text-align: right;\n",
              "    }\n",
              "</style>\n",
              "<table border=\"1\" class=\"dataframe\">\n",
              "  <thead>\n",
              "    <tr style=\"text-align: right;\">\n",
              "      <th></th>\n",
              "      <th>userID</th>\n",
              "      <th>review</th>\n",
              "      <th>review_URL</th>\n",
              "      <th>sentiment</th>\n",
              "      <th>date</th>\n",
              "      <th>type</th>\n",
              "      <th>producer</th>\n",
              "      <th>variety</th>\n",
              "      <th>designation</th>\n",
              "      <th>vineyard</th>\n",
              "      <th>country</th>\n",
              "      <th>region</th>\n",
              "      <th>subregion</th>\n",
              "      <th>appellation</th>\n",
              "    </tr>\n",
              "  </thead>\n",
              "  <tbody>\n",
              "    <tr>\n",
              "      <th>19997</th>\n",
              "      <td>jrglm</td>\n",
              "      <td>Yuck</td>\n",
              "      <td>https://www.cellartracker.com/notes.asp?iWine=...</td>\n",
              "      <td>jrglm wrote:</td>\n",
              "      <td>3/22/2006 - \\njrglm wrote: \\n\\n75 Points</td>\n",
              "      <td>Red</td>\n",
              "      <td>Mad Dogs &amp; English Men</td>\n",
              "      <td>Red Blend</td>\n",
              "      <td>NaN</td>\n",
              "      <td>NaN</td>\n",
              "      <td>Spain</td>\n",
              "      <td>Extremadura</td>\n",
              "      <td>NaN</td>\n",
              "      <td>Vino de la Tierra Extremadura</td>\n",
              "    </tr>\n",
              "    <tr>\n",
              "      <th>19998</th>\n",
              "      <td>bottlestopper</td>\n",
              "      <td>yuck! Old and well past its best</td>\n",
              "      <td>https://www.cellartracker.com/notes.asp?iWine=...</td>\n",
              "      <td>bottlestopper wrote:</td>\n",
              "      <td>7/10/2011 - \\nbottlestopper wrote:</td>\n",
              "      <td>Red</td>\n",
              "      <td>Mad Dogs &amp; English Men</td>\n",
              "      <td>Red Blend</td>\n",
              "      <td>NaN</td>\n",
              "      <td>NaN</td>\n",
              "      <td>Spain</td>\n",
              "      <td>Extremadura</td>\n",
              "      <td>NaN</td>\n",
              "      <td>Vino de la Tierra Extremadura</td>\n",
              "    </tr>\n",
              "    <tr>\n",
              "      <th>19999</th>\n",
              "      <td>Slipknot</td>\n",
              "      <td>whatever</td>\n",
              "      <td>https://www.cellartracker.com/notes.asp?iWine=...</td>\n",
              "      <td>Slipknot wrote:</td>\n",
              "      <td>11/15/2006 - \\nSlipknot wrote: \\n\\n80 Points</td>\n",
              "      <td>Red</td>\n",
              "      <td>Mad Dogs &amp; English Men</td>\n",
              "      <td>Red Blend</td>\n",
              "      <td>NaN</td>\n",
              "      <td>NaN</td>\n",
              "      <td>Spain</td>\n",
              "      <td>Extremadura</td>\n",
              "      <td>NaN</td>\n",
              "      <td>Vino de la Tierra Extremadura</td>\n",
              "    </tr>\n",
              "  </tbody>\n",
              "</table>\n",
              "</div>"
            ],
            "text/plain": [
              "              userID                            review  \\\n",
              "19997          jrglm                              Yuck   \n",
              "19998  bottlestopper  yuck! Old and well past its best   \n",
              "19999       Slipknot                          whatever   \n",
              "\n",
              "                                              review_URL  \\\n",
              "19997  https://www.cellartracker.com/notes.asp?iWine=...   \n",
              "19998  https://www.cellartracker.com/notes.asp?iWine=...   \n",
              "19999  https://www.cellartracker.com/notes.asp?iWine=...   \n",
              "\n",
              "                  sentiment                                          date  \\\n",
              "19997          jrglm wrote:      3/22/2006 - \\njrglm wrote: \\n\\n75 Points   \n",
              "19998  bottlestopper wrote:            7/10/2011 - \\nbottlestopper wrote:   \n",
              "19999       Slipknot wrote:  11/15/2006 - \\nSlipknot wrote: \\n\\n80 Points   \n",
              "\n",
              "      type                producer    variety designation vineyard country  \\\n",
              "19997  Red  Mad Dogs & English Men  Red Blend         NaN      NaN   Spain   \n",
              "19998  Red  Mad Dogs & English Men  Red Blend         NaN      NaN   Spain   \n",
              "19999  Red  Mad Dogs & English Men  Red Blend         NaN      NaN   Spain   \n",
              "\n",
              "            region subregion                    appellation  \n",
              "19997  Extremadura       NaN  Vino de la Tierra Extremadura  \n",
              "19998  Extremadura       NaN  Vino de la Tierra Extremadura  \n",
              "19999  Extremadura       NaN  Vino de la Tierra Extremadura  "
            ]
          },
          "metadata": {
            "tags": []
          },
          "execution_count": 16
        }
      ]
    },
    {
      "metadata": {
        "id": "qCdqi881uWJ5",
        "colab_type": "code",
        "outputId": "5aa74133-785f-4850-e158-42024cd1e128",
        "colab": {
          "base_uri": "https://localhost:8080/",
          "height": 418
        }
      },
      "cell_type": "code",
      "source": [
        "reviews['vintage'] = reviews['vintage'].fillna(0).astype('int')\n",
        "\n",
        "print(reviews.dtypes)\n",
        "\n",
        "print(\"Matrix size\",reviews.shape)\n",
        "\n",
        "# import preprocessing from sklearn\n",
        "from sklearn import preprocessing\n",
        "\n",
        "# view columns using df.columns\n",
        "print(\"Column Names:\",reviews.columns)\n",
        "print(type(reviews))\n",
        "\n",
        "#reviews = reviews.Reviews.unique()\n",
        "#print(\"Unique items Matrix size\",reviews.shape)\n"
      ],
      "execution_count": 0,
      "outputs": [
        {
          "output_type": "stream",
          "text": [
            "userID           object\n",
            "review           object\n",
            "review_URL       object\n",
            "score           float64\n",
            "sentiment        object\n",
            "sate             object\n",
            "vintage           int64\n",
            "type             object\n",
            "producer         object\n",
            "variety          object\n",
            "designation      object\n",
            "vineyard         object\n",
            "country          object\n",
            "region           object\n",
            "subregion        object\n",
            "appellation      object\n",
            "Pprice_level      int64\n",
            "dtype: object\n",
            "Matrix size (20000, 17)\n",
            "Column Names: Index(['userID', 'review', 'review_URL', 'score', 'sentiment', 'sate',\n",
            "       'vintage', 'type', 'producer', 'variety', 'designation', 'vineyard',\n",
            "       'country', 'region', 'subregion', 'appellation', 'Pprice_level'],\n",
            "      dtype='object')\n",
            "<class 'pandas.core.frame.DataFrame'>\n"
          ],
          "name": "stdout"
        }
      ]
    },
    {
      "metadata": {
        "id": "fuVirAvufmv8",
        "colab_type": "text"
      },
      "cell_type": "markdown",
      "source": [
        "Nuestro review df variable contiene un pandas dataframe con 20800 reviews rows y 17 columns con wines features. Todas excepto score, year y vintage son categorical features which will need to be transformed in order to use as inputs in the various machine learning algorithms. Let’s now perform one hot encoding on these categorical variables."
      ]
    },
    {
      "metadata": {
        "id": "idcx42qVPOer",
        "colab_type": "code",
        "outputId": "ba5cb68b-7758-4094-8621-cea84481de37",
        "colab": {
          "base_uri": "https://localhost:8080/",
          "height": 658
        }
      },
      "cell_type": "code",
      "source": [
        "from sklearn.preprocessing import LabelEncoder\n",
        "\n",
        "le_color = LabelEncoder()\n",
        "le_make = LabelEncoder()\n",
        "\n",
        "reviews['type_encoded'] = le_color.fit_transform(reviews.type)\n",
        "reviews['producer_encoded'] = le_color.fit_transform(reviews.producer)\n",
        "reviews['variety_encoded'] = le_color.fit_transform(reviews.variety)\n",
        "\n",
        "print(reviews.dtypes)\n",
        "\n",
        "reviews.tail(3)\n"
      ],
      "execution_count": 0,
      "outputs": [
        {
          "output_type": "stream",
          "text": [
            "userID               object\n",
            "review               object\n",
            "review_URL           object\n",
            "score               float64\n",
            "sentiment            object\n",
            "sate                 object\n",
            "vintage               int64\n",
            "type                 object\n",
            "producer             object\n",
            "variety              object\n",
            "designation          object\n",
            "vineyard             object\n",
            "country              object\n",
            "region               object\n",
            "subregion            object\n",
            "appellation          object\n",
            "Pprice_level          int64\n",
            "type_encoded          int64\n",
            "producer_encoded      int64\n",
            "variety_encoded       int64\n",
            "dtype: object\n"
          ],
          "name": "stdout"
        },
        {
          "output_type": "execute_result",
          "data": {
            "text/html": [
              "<div>\n",
              "<style scoped>\n",
              "    .dataframe tbody tr th:only-of-type {\n",
              "        vertical-align: middle;\n",
              "    }\n",
              "\n",
              "    .dataframe tbody tr th {\n",
              "        vertical-align: top;\n",
              "    }\n",
              "\n",
              "    .dataframe thead th {\n",
              "        text-align: right;\n",
              "    }\n",
              "</style>\n",
              "<table border=\"1\" class=\"dataframe\">\n",
              "  <thead>\n",
              "    <tr style=\"text-align: right;\">\n",
              "      <th></th>\n",
              "      <th>userID</th>\n",
              "      <th>review</th>\n",
              "      <th>review_URL</th>\n",
              "      <th>score</th>\n",
              "      <th>sentiment</th>\n",
              "      <th>sate</th>\n",
              "      <th>vintage</th>\n",
              "      <th>type</th>\n",
              "      <th>producer</th>\n",
              "      <th>variety</th>\n",
              "      <th>designation</th>\n",
              "      <th>vineyard</th>\n",
              "      <th>country</th>\n",
              "      <th>region</th>\n",
              "      <th>subregion</th>\n",
              "      <th>appellation</th>\n",
              "      <th>Pprice_level</th>\n",
              "      <th>type_encoded</th>\n",
              "      <th>producer_encoded</th>\n",
              "      <th>variety_encoded</th>\n",
              "    </tr>\n",
              "  </thead>\n",
              "  <tbody>\n",
              "    <tr>\n",
              "      <th>19997</th>\n",
              "      <td>jrglm</td>\n",
              "      <td>Yuck</td>\n",
              "      <td>https://www.cellartracker.com/notes.asp?iWine=...</td>\n",
              "      <td>75.0</td>\n",
              "      <td>jrglm wrote:</td>\n",
              "      <td>3/22/2006 - \\njrglm wrote: \\n\\n75 Points</td>\n",
              "      <td>2004</td>\n",
              "      <td>Red</td>\n",
              "      <td>Mad Dogs &amp; English Men</td>\n",
              "      <td>Red Blend</td>\n",
              "      <td>NaN</td>\n",
              "      <td>NaN</td>\n",
              "      <td>Spain</td>\n",
              "      <td>Extremadura</td>\n",
              "      <td>NaN</td>\n",
              "      <td>Vino de la Tierra Extremadura</td>\n",
              "      <td>1</td>\n",
              "      <td>2</td>\n",
              "      <td>1041</td>\n",
              "      <td>188</td>\n",
              "    </tr>\n",
              "    <tr>\n",
              "      <th>19998</th>\n",
              "      <td>bottlestopper</td>\n",
              "      <td>yuck! Old and well past its best</td>\n",
              "      <td>https://www.cellartracker.com/notes.asp?iWine=...</td>\n",
              "      <td>NaN</td>\n",
              "      <td>bottlestopper wrote:</td>\n",
              "      <td>7/10/2011 - \\nbottlestopper wrote:</td>\n",
              "      <td>2003</td>\n",
              "      <td>Red</td>\n",
              "      <td>Mad Dogs &amp; English Men</td>\n",
              "      <td>Red Blend</td>\n",
              "      <td>NaN</td>\n",
              "      <td>NaN</td>\n",
              "      <td>Spain</td>\n",
              "      <td>Extremadura</td>\n",
              "      <td>NaN</td>\n",
              "      <td>Vino de la Tierra Extremadura</td>\n",
              "      <td>1</td>\n",
              "      <td>2</td>\n",
              "      <td>1041</td>\n",
              "      <td>188</td>\n",
              "    </tr>\n",
              "    <tr>\n",
              "      <th>19999</th>\n",
              "      <td>Slipknot</td>\n",
              "      <td>whatever</td>\n",
              "      <td>https://www.cellartracker.com/notes.asp?iWine=...</td>\n",
              "      <td>80.0</td>\n",
              "      <td>Slipknot wrote:</td>\n",
              "      <td>11/15/2006 - \\nSlipknot wrote: \\n\\n80 Points</td>\n",
              "      <td>2003</td>\n",
              "      <td>Red</td>\n",
              "      <td>Mad Dogs &amp; English Men</td>\n",
              "      <td>Red Blend</td>\n",
              "      <td>NaN</td>\n",
              "      <td>NaN</td>\n",
              "      <td>Spain</td>\n",
              "      <td>Extremadura</td>\n",
              "      <td>NaN</td>\n",
              "      <td>Vino de la Tierra Extremadura</td>\n",
              "      <td>1</td>\n",
              "      <td>2</td>\n",
              "      <td>1041</td>\n",
              "      <td>188</td>\n",
              "    </tr>\n",
              "  </tbody>\n",
              "</table>\n",
              "</div>"
            ],
            "text/plain": [
              "              userID                            review  \\\n",
              "19997          jrglm                              Yuck   \n",
              "19998  bottlestopper  yuck! Old and well past its best   \n",
              "19999       Slipknot                          whatever   \n",
              "\n",
              "                                              review_URL  score  \\\n",
              "19997  https://www.cellartracker.com/notes.asp?iWine=...   75.0   \n",
              "19998  https://www.cellartracker.com/notes.asp?iWine=...    NaN   \n",
              "19999  https://www.cellartracker.com/notes.asp?iWine=...   80.0   \n",
              "\n",
              "                  sentiment                                          sate  \\\n",
              "19997          jrglm wrote:      3/22/2006 - \\njrglm wrote: \\n\\n75 Points   \n",
              "19998  bottlestopper wrote:            7/10/2011 - \\nbottlestopper wrote:   \n",
              "19999       Slipknot wrote:  11/15/2006 - \\nSlipknot wrote: \\n\\n80 Points   \n",
              "\n",
              "       vintage type                producer    variety designation vineyard  \\\n",
              "19997     2004  Red  Mad Dogs & English Men  Red Blend         NaN      NaN   \n",
              "19998     2003  Red  Mad Dogs & English Men  Red Blend         NaN      NaN   \n",
              "19999     2003  Red  Mad Dogs & English Men  Red Blend         NaN      NaN   \n",
              "\n",
              "      country       region subregion                    appellation  \\\n",
              "19997   Spain  Extremadura       NaN  Vino de la Tierra Extremadura   \n",
              "19998   Spain  Extremadura       NaN  Vino de la Tierra Extremadura   \n",
              "19999   Spain  Extremadura       NaN  Vino de la Tierra Extremadura   \n",
              "\n",
              "       Pprice_level  type_encoded  producer_encoded  variety_encoded  \n",
              "19997             1             2              1041              188  \n",
              "19998             1             2              1041              188  \n",
              "19999             1             2              1041              188  "
            ]
          },
          "metadata": {
            "tags": []
          },
          "execution_count": 51
        }
      ]
    },
    {
      "metadata": {
        "id": "HnjOua6gSbXx",
        "colab_type": "code",
        "outputId": "c0a150b3-bb9c-4e08-c69c-5c07518153f9",
        "colab": {
          "base_uri": "https://localhost:8080/",
          "height": 336
        }
      },
      "cell_type": "code",
      "source": [
        "\n",
        "from sklearn.preprocessing import OneHotEncoder\n",
        "\n",
        "type_ohe = OneHotEncoder()\n",
        "producer_ohe = OneHotEncoder()\n",
        "variety_ohe = OneHotEncoder()\n",
        "designation_ohe = OneHotEncoder()\n",
        "vineyard_ohe = OneHotEncoder()\n",
        "country_ohe = OneHotEncoder()\n",
        "region_ohe = OneHotEncoder()\n",
        "subregion_ohe = OneHotEncoder()\n",
        "appellation_ohe = OneHotEncoder()\n",
        "\n",
        "type_ = type_ohe.fit_transform(reviews.type_encoded.values.reshape(-1,1)).toarray()\n",
        "producer_ = producer_ohe.fit_transform(reviews.producer_encoded.values.reshape(-1,1)).toarray()\n",
        "variety_ = variety_ohe.fit_transform(reviews.variety_encoded.values.reshape(-1,1)).toarray()\n",
        "\n",
        "typeOneHot = pd.DataFrame(type_, columns = [\"Producer_\"+str(int(i)) for i in range(type_.shape[1])])\n",
        "producerOneHot = pd.DataFrame(producer_, columns = [\"Producer_\"+str(int(i)) for i in range(producer_.shape[1])])\n",
        "\n",
        "\n",
        "df = pd.concat([reviews, typeOneHot,producerOneHot], axis=1)\n",
        "\n",
        "df.tail(3)"
      ],
      "execution_count": 0,
      "outputs": [
        {
          "output_type": "execute_result",
          "data": {
            "text/html": [
              "<div>\n",
              "<style scoped>\n",
              "    .dataframe tbody tr th:only-of-type {\n",
              "        vertical-align: middle;\n",
              "    }\n",
              "\n",
              "    .dataframe tbody tr th {\n",
              "        vertical-align: top;\n",
              "    }\n",
              "\n",
              "    .dataframe thead th {\n",
              "        text-align: right;\n",
              "    }\n",
              "</style>\n",
              "<table border=\"1\" class=\"dataframe\">\n",
              "  <thead>\n",
              "    <tr style=\"text-align: right;\">\n",
              "      <th></th>\n",
              "      <th>userID</th>\n",
              "      <th>review</th>\n",
              "      <th>review_URL</th>\n",
              "      <th>score</th>\n",
              "      <th>sentiment</th>\n",
              "      <th>sate</th>\n",
              "      <th>vintage</th>\n",
              "      <th>type</th>\n",
              "      <th>producer</th>\n",
              "      <th>variety</th>\n",
              "      <th>...</th>\n",
              "      <th>Producer_1208</th>\n",
              "      <th>Producer_1209</th>\n",
              "      <th>Producer_1210</th>\n",
              "      <th>Producer_1211</th>\n",
              "      <th>Producer_1212</th>\n",
              "      <th>Producer_1213</th>\n",
              "      <th>Producer_1214</th>\n",
              "      <th>Producer_1215</th>\n",
              "      <th>Producer_1216</th>\n",
              "      <th>Producer_1217</th>\n",
              "    </tr>\n",
              "  </thead>\n",
              "  <tbody>\n",
              "    <tr>\n",
              "      <th>19997</th>\n",
              "      <td>jrglm</td>\n",
              "      <td>Yuck</td>\n",
              "      <td>https://www.cellartracker.com/notes.asp?iWine=...</td>\n",
              "      <td>75.0</td>\n",
              "      <td>jrglm wrote:</td>\n",
              "      <td>3/22/2006 - \\njrglm wrote: \\n\\n75 Points</td>\n",
              "      <td>2004</td>\n",
              "      <td>Red</td>\n",
              "      <td>Mad Dogs &amp; English Men</td>\n",
              "      <td>Red Blend</td>\n",
              "      <td>...</td>\n",
              "      <td>0.0</td>\n",
              "      <td>0.0</td>\n",
              "      <td>0.0</td>\n",
              "      <td>0.0</td>\n",
              "      <td>0.0</td>\n",
              "      <td>0.0</td>\n",
              "      <td>0.0</td>\n",
              "      <td>0.0</td>\n",
              "      <td>0.0</td>\n",
              "      <td>0.0</td>\n",
              "    </tr>\n",
              "    <tr>\n",
              "      <th>19998</th>\n",
              "      <td>bottlestopper</td>\n",
              "      <td>yuck! Old and well past its best</td>\n",
              "      <td>https://www.cellartracker.com/notes.asp?iWine=...</td>\n",
              "      <td>NaN</td>\n",
              "      <td>bottlestopper wrote:</td>\n",
              "      <td>7/10/2011 - \\nbottlestopper wrote:</td>\n",
              "      <td>2003</td>\n",
              "      <td>Red</td>\n",
              "      <td>Mad Dogs &amp; English Men</td>\n",
              "      <td>Red Blend</td>\n",
              "      <td>...</td>\n",
              "      <td>0.0</td>\n",
              "      <td>0.0</td>\n",
              "      <td>0.0</td>\n",
              "      <td>0.0</td>\n",
              "      <td>0.0</td>\n",
              "      <td>0.0</td>\n",
              "      <td>0.0</td>\n",
              "      <td>0.0</td>\n",
              "      <td>0.0</td>\n",
              "      <td>0.0</td>\n",
              "    </tr>\n",
              "    <tr>\n",
              "      <th>19999</th>\n",
              "      <td>Slipknot</td>\n",
              "      <td>whatever</td>\n",
              "      <td>https://www.cellartracker.com/notes.asp?iWine=...</td>\n",
              "      <td>80.0</td>\n",
              "      <td>Slipknot wrote:</td>\n",
              "      <td>11/15/2006 - \\nSlipknot wrote: \\n\\n80 Points</td>\n",
              "      <td>2003</td>\n",
              "      <td>Red</td>\n",
              "      <td>Mad Dogs &amp; English Men</td>\n",
              "      <td>Red Blend</td>\n",
              "      <td>...</td>\n",
              "      <td>0.0</td>\n",
              "      <td>0.0</td>\n",
              "      <td>0.0</td>\n",
              "      <td>0.0</td>\n",
              "      <td>0.0</td>\n",
              "      <td>0.0</td>\n",
              "      <td>0.0</td>\n",
              "      <td>0.0</td>\n",
              "      <td>0.0</td>\n",
              "      <td>0.0</td>\n",
              "    </tr>\n",
              "  </tbody>\n",
              "</table>\n",
              "<p>3 rows × 1253 columns</p>\n",
              "</div>"
            ],
            "text/plain": [
              "              userID                            review  \\\n",
              "19997          jrglm                              Yuck   \n",
              "19998  bottlestopper  yuck! Old and well past its best   \n",
              "19999       Slipknot                          whatever   \n",
              "\n",
              "                                              review_URL  score  \\\n",
              "19997  https://www.cellartracker.com/notes.asp?iWine=...   75.0   \n",
              "19998  https://www.cellartracker.com/notes.asp?iWine=...    NaN   \n",
              "19999  https://www.cellartracker.com/notes.asp?iWine=...   80.0   \n",
              "\n",
              "                  sentiment                                          sate  \\\n",
              "19997          jrglm wrote:      3/22/2006 - \\njrglm wrote: \\n\\n75 Points   \n",
              "19998  bottlestopper wrote:            7/10/2011 - \\nbottlestopper wrote:   \n",
              "19999       Slipknot wrote:  11/15/2006 - \\nSlipknot wrote: \\n\\n80 Points   \n",
              "\n",
              "       vintage type                producer    variety      ...        \\\n",
              "19997     2004  Red  Mad Dogs & English Men  Red Blend      ...         \n",
              "19998     2003  Red  Mad Dogs & English Men  Red Blend      ...         \n",
              "19999     2003  Red  Mad Dogs & English Men  Red Blend      ...         \n",
              "\n",
              "      Producer_1208 Producer_1209 Producer_1210 Producer_1211 Producer_1212  \\\n",
              "19997           0.0           0.0           0.0           0.0           0.0   \n",
              "19998           0.0           0.0           0.0           0.0           0.0   \n",
              "19999           0.0           0.0           0.0           0.0           0.0   \n",
              "\n",
              "      Producer_1213  Producer_1214  Producer_1215  Producer_1216  \\\n",
              "19997           0.0            0.0            0.0            0.0   \n",
              "19998           0.0            0.0            0.0            0.0   \n",
              "19999           0.0            0.0            0.0            0.0   \n",
              "\n",
              "       Producer_1217  \n",
              "19997            0.0  \n",
              "19998            0.0  \n",
              "19999            0.0  \n",
              "\n",
              "[3 rows x 1253 columns]"
            ]
          },
          "metadata": {
            "tags": []
          },
          "execution_count": 56
        }
      ]
    },
    {
      "metadata": {
        "id": "bWMrDMy_uFH9",
        "colab_type": "code",
        "colab": {}
      },
      "cell_type": "code",
      "source": [
        ""
      ],
      "execution_count": 0,
      "outputs": []
    },
    {
      "metadata": {
        "id": "Mdz6p5IXPZYV",
        "colab_type": "code",
        "colab": {}
      },
      "cell_type": "code",
      "source": [
        ""
      ],
      "execution_count": 0,
      "outputs": []
    }
  ]
}