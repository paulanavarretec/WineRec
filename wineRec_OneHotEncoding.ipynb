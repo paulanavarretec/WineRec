{
  "nbformat": 4,
  "nbformat_minor": 0,
  "metadata": {
    "colab": {
      "name": "wineRec-OneHotEncoding.ipynb",
      "version": "0.3.2",
      "provenance": [],
      "include_colab_link": true
    },
    "kernelspec": {
      "name": "python3",
      "display_name": "Python 3"
    }
  },
  "cells": [
    {
      "cell_type": "markdown",
      "metadata": {
        "id": "view-in-github",
        "colab_type": "text"
      },
      "source": [
        "<a href=\"https://colab.research.google.com/github/paulanavarretec/WineRec/blob/master/wineRec_OneHotEncoding.ipynb\" target=\"_parent\"><img src=\"https://colab.research.google.com/assets/colab-badge.svg\" alt=\"Open In Colab\"/></a>"
      ]
    },
    {
      "metadata": {
        "id": "zIrB1qdq90HC",
        "colab_type": "code",
        "colab": {}
      },
      "cell_type": "code",
      "source": [
        "import numpy as np\n",
        "# Example dummy data from Rendle 2010 \n",
        "# http://www.csie.ntu.edu.tw/~b97053/paper/Rendle2010FM.pdf\n",
        "# Variables categoricas (Users, Wines, Last Rated) pasaron por one-hot-encoding \n",
        "\n",
        "x_data = np.matrix([\n",
        "#     Users  |     Wines      |    Wine Ratings    | Time | Last Wines Rated\n",
        "#    A  B  C | W1  W2  W3  W4 | W1   W2   W3   W4  |      | W1  W2  W3  W3\n",
        "    [1, 0, 0,  1,  0,  0,  0,   0.3, 0.3, 0.3, 0,     13,   0,  0,  0,  0 ],\n",
        "    [1, 0, 0,  0,  1,  0,  0,   0.3, 0.3, 0.3, 0,     14,   1,  0,  0,  0 ],\n",
        "    [1, 0, 0,  0,  0,  1,  0,   0.3, 0.3, 0.3, 0,     16,   0,  1,  0,  0 ],\n",
        "    [0, 1, 0,  0,  0,  1,  0,   0,   0,   0.5, 0.5,   5,    0,  0,  0,  0 ],\n",
        "    [0, 1, 0,  0,  0,  0,  1,   0,   0,   0.5, 0.5,   8,    0,  0,  1,  0 ],\n",
        "    [0, 0, 1,  1,  0,  0,  0,   0.5, 0,   0.5, 0,     9,    0,  0,  0,  0 ],\n",
        "    [0, 0, 1,  0,  0,  1,  0,   0.5, 0,   0.5, 0,     12,   1,  0,  0,  0 ]\n",
        "])\n",
        "\n",
        "# ratings\n",
        "y_data = np.array([5, 3, 1, 4, 5, 1, 5])\n",
        "\n",
        "# Agregamos un eje para que funcione Tensorflow.\n",
        "y_data.shape += (1, )\n",
        "\n",
        "import tensorflow as tf\n",
        "n, p = x_data.shape\n",
        "\n",
        "# numero de latent factors\n",
        "k = 5\n",
        "\n",
        "# design matrix\n",
        "X = tf.placeholder('float', shape=[n, p])\n",
        "# target vector\n",
        "y = tf.placeholder('float', shape=[n, 1])\n",
        "\n",
        "# bias y weights\n",
        "w0 = tf.Variable(tf.zeros([1]))\n",
        "W = tf.Variable(tf.zeros([p]))\n",
        "\n",
        "# interaction factors, inicializados de forma aleatoria \n",
        "V = tf.Variable(tf.random_normal([k, p], stddev=0.01))\n",
        "\n",
        "# estimación de y, inicializada en 0.\n",
        "y_hat = tf.Variable(tf.zeros([n, 1]))"
      ],
      "execution_count": 0,
      "outputs": []
    },
    {
      "metadata": {
        "id": "sBsXhd7TEDL-",
        "colab_type": "text"
      },
      "cell_type": "markdown",
      "source": [
        "Usamos placeholders para los inputs y targets. Los datos actuales se asignarán en el runtime de la sesión. X e Y no serán modificados por el backend; Usamos variables para almacenar bias, weights y factor layers. Estos son los parámetros que se actualizarán al ajustar el modelo.\n",
        "\n",
        "En el siguiente código, computamos WX y usamos reduce_sum() para agregar las filas del Tensor resultante (axis 1). keep_dims está seteado en True para asegurar que las dimensiones input/output se respeten."
      ]
    },
    {
      "metadata": {
        "id": "YSjfrLr4Kh_d",
        "colab_type": "code",
        "colab": {}
      },
      "cell_type": "code",
      "source": [
        "linear_terms = tf.add(w0,\n",
        "        \ttf.reduce_sum(\n",
        "          tf.multiply(W, X), 1, keepdims=True))"
      ],
      "execution_count": 0,
      "outputs": []
    },
    {
      "metadata": {
        "id": "N9zqR5c_LS9l",
        "colab_type": "text"
      },
      "cell_type": "markdown",
      "source": [
        "En chunk anterior implementamos simplemente una regresion lineal. Hacemos lo mismo con los términos de interacción."
      ]
    },
    {
      "metadata": {
        "id": "hB2KZfheLRXD",
        "colab_type": "code",
        "colab": {}
      },
      "cell_type": "code",
      "source": [
        "interactions = (tf.multiply(0.5,\n",
        "                tf.reduce_sum(\n",
        "                    tf.subtract(\n",
        "                        tf.pow( tf.matmul(X, tf.transpose(V)), 2),\n",
        "                        tf.matmul(tf.pow(X, 2), tf.transpose(tf.pow(V, 2)))),\n",
        "                    1, keep_dims=True)))"
      ],
      "execution_count": 0,
      "outputs": []
    },
    {
      "metadata": {
        "id": "G6tg04B3M4VP",
        "colab_type": "text"
      },
      "cell_type": "markdown",
      "source": [
        "Y agregamos todo para obtener el target estimado."
      ]
    },
    {
      "metadata": {
        "id": "Sgi21PLdNAKK",
        "colab_type": "code",
        "colab": {}
      },
      "cell_type": "code",
      "source": [
        "y_hat = tf.add(linear_terms, interactions)"
      ],
      "execution_count": 0,
      "outputs": []
    },
    {
      "metadata": {
        "id": "OXHMxDLFNSX6",
        "colab_type": "text"
      },
      "cell_type": "markdown",
      "source": [
        "Como estamos resolviendo un problema de regresion, aprendemos los parámetros del modelo minimizando la suma de los residuos cuadráticos como función de pérdida. También agregamos un término de regularización para prevenir overfitting."
      ]
    },
    {
      "metadata": {
        "id": "4vBmJRc6OW0H",
        "colab_type": "code",
        "colab": {}
      },
      "cell_type": "code",
      "source": [
        "# Función de pérdida como suma de cuadrados regularizada L2  sobre W y V\n",
        "lambda_w = tf.constant(0.001, name='lambda_w')\n",
        "lambda_v = tf.constant(0.001, name='lambda_v')\n",
        "\n",
        "l2_norm = (tf.reduce_sum(\n",
        "            tf.add(\n",
        "                tf.multiply(lambda_w, tf.pow(W, 2)),\n",
        "                tf.multiply(lambda_v, tf.pow(V, 2)))))\n",
        "\n",
        "error = tf.reduce_mean(tf.square(tf.subtract(y, y_hat)))\n",
        "loss = tf.add(error, l2_norm)"
      ],
      "execution_count": 0,
      "outputs": []
    },
    {
      "metadata": {
        "id": "T4zLA3UfOOzI",
        "colab_type": "text"
      },
      "cell_type": "markdown",
      "source": [
        "Para entrenar el modelo declamos un optimizador y minimizamos la función de pérdida."
      ]
    },
    {
      "metadata": {
        "id": "t_eu56JsPJEd",
        "colab_type": "code",
        "colab": {}
      },
      "cell_type": "code",
      "source": [
        "eta = tf.constant(0.1)\n",
        "optimizer = tf.train.AdagradOptimizer(eta).minimize(loss)"
      ],
      "execution_count": 0,
      "outputs": []
    },
    {
      "metadata": {
        "id": "goTSCjFIPaCN",
        "colab_type": "text"
      },
      "cell_type": "markdown",
      "source": [
        "Estamos listos para obtener el grafo y desplegarlo en el backend de Tensorflow. Usamos pythos context manager pata manejar la sesion."
      ]
    },
    {
      "metadata": {
        "id": "aEH0ZLCzPxaF",
        "colab_type": "code",
        "colab": {
          "base_uri": "https://localhost:8080/",
          "height": 468
        },
        "outputId": "f9e22953-82a1-4f23-cb2c-fc3bcfd9698b"
      },
      "cell_type": "code",
      "source": [
        "# Muchas Iteraciones\n",
        "N_EPOCHS = 1000\n",
        "\n",
        "# Desplegar grafo\n",
        "init = tf.global_variables_initializer()\n",
        "with tf.Session() as sess:\n",
        "    sess.run(init)\n",
        "\n",
        "    for epoch in range(N_EPOCHS):\n",
        "        indices = np.arange(n)\n",
        "        np.random.shuffle(indices)\n",
        "        x_data, y_data = x_data[indices], y_data[indices]\n",
        "        sess.run(optimizer, feed_dict={X: x_data, y: y_data})\n",
        "\n",
        "    print('MSE: ', sess.run(error, feed_dict={X: x_data, y: y_data}))\n",
        "    print('Loss (regularized error):', sess.run(loss, feed_dict={X: x_data, y: y_data}))\n",
        "    print('Predictions:', sess.run(y_hat, feed_dict={X: x_data, y: y_data}))\n",
        "    print('Learnt weights:', sess.run(W, feed_dict={X: x_data, y: y_data}))\n",
        "    print('Learnt factors:', sess.run(V, feed_dict={X: x_data, y: y_data}))"
      ],
      "execution_count": 18,
      "outputs": [
        {
          "output_type": "stream",
          "text": [
            "MSE:  4.5705195e-07\n",
            "Loss (regularized error): 0.0031154503\n",
            "Predictions: [[3.0001822]\n",
            " [1.0004226]\n",
            " [4.9992223]\n",
            " [1.0009962]\n",
            " [4.9996285]\n",
            " [4.999851 ]\n",
            " [3.9988909]]\n",
            "Learnt weights: [ 0.15683964  0.18582082 -0.11557835 -0.01759121 -0.05105131  0.20488892\n",
            "  0.08483714 -0.0028634   0.09054252  0.07809868  0.14044799  0.11401302\n",
            "  0.1677825  -0.16010605  0.08483714  0.        ]\n",
            "Learnt factors: [[-0.03877404  0.09972517 -0.02663375 -0.02762474 -0.11602374  0.05021128\n",
            "   0.06052936 -0.02106447 -0.03125477  0.02357763  0.09259289  0.05842411\n",
            "   0.05749567 -0.18113753  0.06019074 -0.00141657]\n",
            " [ 0.15471348  0.22781421 -0.09609849  0.13426377 -0.2403505   0.20543666\n",
            "   0.04828157  0.02070697  0.08827759  0.09127898  0.19516642  0.24714474\n",
            "   0.24685891 -0.3831636   0.06615476 -0.00153511]\n",
            " [ 0.10873464  0.21694219 -0.14482094  0.10426582 -0.2676071   0.17748334\n",
            "   0.04517152 -0.02715301  0.07373484  0.05430392  0.18379144  0.24976592\n",
            "   0.20171249 -0.3793244   0.05433233 -0.01011759]\n",
            " [ 0.12126153  0.21105057 -0.14552431  0.13056841 -0.26526293  0.18605919\n",
            "   0.03061874  0.00085359  0.0690724   0.05680273  0.1720788   0.25048792\n",
            "   0.2068271  -0.3830043   0.02884758  0.00844025]\n",
            " [ 0.05967973  0.16945113 -0.1312849   0.05269478 -0.2638647   0.13917562\n",
            "   0.0342277  -0.03543615  0.04515457  0.03081632  0.15294474  0.20052183\n",
            "   0.1542964  -0.33870348  0.02751925  0.00189404]]\n"
          ],
          "name": "stdout"
        }
      ]
    },
    {
      "metadata": {
        "id": "J8aB9XdbSM9f",
        "colab_type": "text"
      },
      "cell_type": "markdown",
      "source": [
        "En cada iteración (hasta N_EPOCHS) ejecutamos el optimizador, el cual recalcula los parametros del modelo por el método de descenso del gradiente. Notar que estamos moviendo datos desde el espacio de memoria de Python al de backend C++ de Tensorflow  a través de feed_dict={}.\n",
        "Como estamos trabajando con un set reducido de datos exprimentales podemos entregar el dataset todo de una vez. En la práctica, querremos trabajar con mini batches (ej. usando un generador sobre el input). Podemos mezclar los datos (np.random.shuffle) para evitar sesgar el gradiente."
      ]
    },
    {
      "metadata": {
        "id": "-nH_62KrToPL",
        "colab_type": "text"
      },
      "cell_type": "markdown",
      "source": [
        "# Experimentos"
      ]
    },
    {
      "metadata": {
        "id": "SxGWlDpwXfeK",
        "colab_type": "text"
      },
      "cell_type": "markdown",
      "source": [
        "Para setear un benchmark  del performance en general del modelo, entrenamos y testeamos en el dataset porcionado en training y test (70%-30%). El objetivo es predecir el rating para cada vino. Luego del aplicar one-hot-encoding a las variables categóricas, obtendemos una design matrix de 90570×2623 [Corregir] para el training set, y de 90570×2623[Corregir] para el test set.\n"
      ]
    },
    {
      "metadata": {
        "id": "L6D3VjZOcKpg",
        "colab_type": "text"
      },
      "cell_type": "markdown",
      "source": [
        "## Representación para el training"
      ]
    },
    {
      "metadata": {
        "id": "d7jfLXFOcq4L",
        "colab_type": "text"
      },
      "cell_type": "markdown",
      "source": [
        "Obtenemos un subset pequeño del dataset movielens ratings desde http://www.cellartracker.com, obtenemos los archivos ........\n",
        "\n",
        "La forma más facil de utilizar esta clase es representando la training data como listas de Python dict objects, donde los dict elements mapean las variables categóricas y numericas de cada intancia a sus valores. Luego usamos DictVectorizer de sklearn  para convertirlas en una disign matrix encodeada con one-of-K or “one-hot” coding.\n",
        "\n",
        "Un pequeño ejemplo:"
      ]
    },
    {
      "metadata": {
        "id": "92ZVGyqkoh_q",
        "colab_type": "code",
        "colab": {
          "resources": {
            "http://localhost:8080/nbextensions/google.colab/files.js": {
              "data": "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",
              "ok": true,
              "headers": [
                [
                  "content-type",
                  "application/javascript"
                ]
              ],
              "status": 200,
              "status_text": ""
            }
          },
          "base_uri": "https://localhost:8080/",
          "height": 73
        },
        "outputId": "ccb6e2c3-93e2-4622-c890-6f9468b44b73"
      },
      "cell_type": "code",
      "source": [
        "import numpy as np\n",
        "import pandas as pd\n",
        "\n",
        "from google.colab import files\n",
        "uploaded = files.upload()\n",
        "\n",
        "# load dataset\n",
        "#X = pd.read_csv('titanic_data.csv')\n",
        "#X.head(3)"
      ],
      "execution_count": 26,
      "outputs": [
        {
          "output_type": "display_data",
          "data": {
            "text/html": [
              "\n",
              "     <input type=\"file\" id=\"files-0d21ad09-b071-41f0-94e7-6f962d15c3f7\" name=\"files[]\" multiple disabled />\n",
              "     <output id=\"result-0d21ad09-b071-41f0-94e7-6f962d15c3f7\">\n",
              "      Upload widget is only available when the cell has been executed in the\n",
              "      current browser session. Please rerun this cell to enable.\n",
              "      </output>\n",
              "      <script src=\"/nbextensions/google.colab/files.js\"></script> "
            ],
            "text/plain": [
              "<IPython.core.display.HTML object>"
            ]
          },
          "metadata": {
            "tags": []
          }
        },
        {
          "output_type": "stream",
          "text": [
            "Saving allWines-PriceLevel1.csv to allWines-PriceLevel1.csv\n"
          ],
          "name": "stdout"
        }
      ]
    },
    {
      "metadata": {
        "id": "s-BdZslmpyWL",
        "colab_type": "code",
        "colab": {
          "base_uri": "https://localhost:8080/",
          "height": 300
        },
        "outputId": "ed0b1a13-1865-491d-c2d1-b8caba5c880d"
      },
      "cell_type": "code",
      "source": [
        "\n",
        "train_file = pd.read_csv('allWines-PriceLevel1.csv',\n",
        "                         sep=';',\n",
        "                         names = ['Score', 'Reviews', 'Vintage', 'Type', 'Producer', 'Variety', 'Designation', 'Vineyard', 'Country', 'Region', 'Subregion', 'Appellation', 'Price_level'],\n",
        "                         header=0)\n",
        "\n",
        "\n",
        "#train_file.head()\n",
        "train_file.tail()"
      ],
      "execution_count": 31,
      "outputs": [
        {
          "output_type": "execute_result",
          "data": {
            "text/html": [
              "<div>\n",
              "<style scoped>\n",
              "    .dataframe tbody tr th:only-of-type {\n",
              "        vertical-align: middle;\n",
              "    }\n",
              "\n",
              "    .dataframe tbody tr th {\n",
              "        vertical-align: top;\n",
              "    }\n",
              "\n",
              "    .dataframe thead th {\n",
              "        text-align: right;\n",
              "    }\n",
              "</style>\n",
              "<table border=\"1\" class=\"dataframe\">\n",
              "  <thead>\n",
              "    <tr style=\"text-align: right;\">\n",
              "      <th></th>\n",
              "      <th>Score</th>\n",
              "      <th>Reviews</th>\n",
              "      <th>Vintage</th>\n",
              "      <th>Type</th>\n",
              "      <th>Producer</th>\n",
              "      <th>Variety</th>\n",
              "      <th>Designation</th>\n",
              "      <th>Vineyard</th>\n",
              "      <th>Country</th>\n",
              "      <th>Region</th>\n",
              "      <th>Subregion</th>\n",
              "      <th>Appellation</th>\n",
              "      <th>Price_level</th>\n",
              "    </tr>\n",
              "  </thead>\n",
              "  <tbody>\n",
              "    <tr>\n",
              "      <th>20810</th>\n",
              "      <td>NaN</td>\n",
              "      <td>https://www.cellartracker.com/editnote.asp?iWi...</td>\n",
              "      <td>2004</td>\n",
              "      <td>Red</td>\n",
              "      <td>Zumot winery</td>\n",
              "      <td>Cabernet Sauvignon</td>\n",
              "      <td>Saint George Reserve</td>\n",
              "      <td>NaN</td>\n",
              "      <td>Jordan</td>\n",
              "      <td>Madaba</td>\n",
              "      <td>NaN</td>\n",
              "      <td>NaN</td>\n",
              "      <td>1</td>\n",
              "    </tr>\n",
              "    <tr>\n",
              "      <th>20811</th>\n",
              "      <td>NaN</td>\n",
              "      <td>https://www.cellartracker.com/editnote.asp?iWi...</td>\n",
              "      <td>2015</td>\n",
              "      <td>Red</td>\n",
              "      <td>Dodoma</td>\n",
              "      <td>Aglianico</td>\n",
              "      <td>NaN</td>\n",
              "      <td>NaN</td>\n",
              "      <td>Tanzania</td>\n",
              "      <td>Dodoma</td>\n",
              "      <td>NaN</td>\n",
              "      <td>NaN</td>\n",
              "      <td>1</td>\n",
              "    </tr>\n",
              "    <tr>\n",
              "      <th>20812</th>\n",
              "      <td>NaN</td>\n",
              "      <td>https://www.cellartracker.com/editnote.asp?iWi...</td>\n",
              "      <td>NV</td>\n",
              "      <td>Spirits</td>\n",
              "      <td>El Dorado</td>\n",
              "      <td>Molasses</td>\n",
              "      <td>5 Year Old</td>\n",
              "      <td>NaN</td>\n",
              "      <td>West Indies</td>\n",
              "      <td>Guyana</td>\n",
              "      <td>NaN</td>\n",
              "      <td>NaN</td>\n",
              "      <td>1</td>\n",
              "    </tr>\n",
              "    <tr>\n",
              "      <th>20813</th>\n",
              "      <td>NaN</td>\n",
              "      <td>https://www.cellartracker.com/editnote.asp?iWi...</td>\n",
              "      <td>2013</td>\n",
              "      <td>White</td>\n",
              "      <td>Arba Wines</td>\n",
              "      <td>Riesling</td>\n",
              "      <td>Assa Valley Almaty</td>\n",
              "      <td>NaN</td>\n",
              "      <td>Kazakhstan</td>\n",
              "      <td>Shar Shar</td>\n",
              "      <td>NaN</td>\n",
              "      <td>NaN</td>\n",
              "      <td>1</td>\n",
              "    </tr>\n",
              "    <tr>\n",
              "      <th>20814</th>\n",
              "      <td>90.0</td>\n",
              "      <td>https://www.cellartracker.com/notes.asp?iWine=...</td>\n",
              "      <td>2003</td>\n",
              "      <td>Red</td>\n",
              "      <td>Chaupi Estancia</td>\n",
              "      <td>Red Blend</td>\n",
              "      <td>Meritage Alyce</td>\n",
              "      <td>NaN</td>\n",
              "      <td>Ecuador</td>\n",
              "      <td>Ecuador</td>\n",
              "      <td>NaN</td>\n",
              "      <td>Yaruquí</td>\n",
              "      <td>1</td>\n",
              "    </tr>\n",
              "  </tbody>\n",
              "</table>\n",
              "</div>"
            ],
            "text/plain": [
              "       Score                                            Reviews Vintage  \\\n",
              "20810    NaN  https://www.cellartracker.com/editnote.asp?iWi...    2004   \n",
              "20811    NaN  https://www.cellartracker.com/editnote.asp?iWi...    2015   \n",
              "20812    NaN  https://www.cellartracker.com/editnote.asp?iWi...      NV   \n",
              "20813    NaN  https://www.cellartracker.com/editnote.asp?iWi...    2013   \n",
              "20814   90.0  https://www.cellartracker.com/notes.asp?iWine=...    2003   \n",
              "\n",
              "          Type         Producer             Variety           Designation  \\\n",
              "20810      Red     Zumot winery  Cabernet Sauvignon  Saint George Reserve   \n",
              "20811      Red           Dodoma           Aglianico                   NaN   \n",
              "20812  Spirits        El Dorado            Molasses            5 Year Old   \n",
              "20813    White       Arba Wines            Riesling    Assa Valley Almaty   \n",
              "20814      Red  Chaupi Estancia           Red Blend        Meritage Alyce   \n",
              "\n",
              "      Vineyard      Country     Region Subregion Appellation  Price_level  \n",
              "20810      NaN       Jordan     Madaba       NaN         NaN            1  \n",
              "20811      NaN     Tanzania     Dodoma       NaN         NaN            1  \n",
              "20812      NaN  West Indies     Guyana       NaN         NaN            1  \n",
              "20813      NaN   Kazakhstan  Shar Shar       NaN         NaN            1  \n",
              "20814      NaN      Ecuador    Ecuador       NaN     Yaruquí            1  "
            ]
          },
          "metadata": {
            "tags": []
          },
          "execution_count": 31
        }
      ]
    },
    {
      "metadata": {
        "id": "PgeMuzDqr1ux",
        "colab_type": "code",
        "colab": {
          "base_uri": "https://localhost:8080/",
          "height": 187
        },
        "outputId": "028a99b4-9102-4d2d-84dc-ef7467ccc53c"
      },
      "cell_type": "code",
      "source": [
        "# limit to categorical data using df.select_dtypes()\n",
        "train_file = train_file.select_dtypes(include=[object])\n",
        "train_file.head(3)"
      ],
      "execution_count": 33,
      "outputs": [
        {
          "output_type": "execute_result",
          "data": {
            "text/html": [
              "<div>\n",
              "<style scoped>\n",
              "    .dataframe tbody tr th:only-of-type {\n",
              "        vertical-align: middle;\n",
              "    }\n",
              "\n",
              "    .dataframe tbody tr th {\n",
              "        vertical-align: top;\n",
              "    }\n",
              "\n",
              "    .dataframe thead th {\n",
              "        text-align: right;\n",
              "    }\n",
              "</style>\n",
              "<table border=\"1\" class=\"dataframe\">\n",
              "  <thead>\n",
              "    <tr style=\"text-align: right;\">\n",
              "      <th></th>\n",
              "      <th>Reviews</th>\n",
              "      <th>Vintage</th>\n",
              "      <th>Type</th>\n",
              "      <th>Producer</th>\n",
              "      <th>Variety</th>\n",
              "      <th>Designation</th>\n",
              "      <th>Vineyard</th>\n",
              "      <th>Country</th>\n",
              "      <th>Region</th>\n",
              "      <th>Subregion</th>\n",
              "      <th>Appellation</th>\n",
              "    </tr>\n",
              "  </thead>\n",
              "  <tbody>\n",
              "    <tr>\n",
              "      <th>0</th>\n",
              "      <td>https://www.cellartracker.com/notes.asp?iWine=...</td>\n",
              "      <td>2006</td>\n",
              "      <td>Red</td>\n",
              "      <td>'Tilda</td>\n",
              "      <td>Syrah Blend</td>\n",
              "      <td>Petulance</td>\n",
              "      <td>NaN</td>\n",
              "      <td>USA</td>\n",
              "      <td>Washington</td>\n",
              "      <td>Columbia Valley</td>\n",
              "      <td>Columbia Valley</td>\n",
              "    </tr>\n",
              "    <tr>\n",
              "      <th>1</th>\n",
              "      <td>https://www.cellartracker.com/editnote.asp?iWi...</td>\n",
              "      <td>2016</td>\n",
              "      <td>Rosé - Sparkling</td>\n",
              "      <td>14 Hands</td>\n",
              "      <td>Champagne Blend</td>\n",
              "      <td>NaN</td>\n",
              "      <td>NaN</td>\n",
              "      <td>USA</td>\n",
              "      <td>Washington</td>\n",
              "      <td>Columbia Valley</td>\n",
              "      <td>Yakima Valley</td>\n",
              "    </tr>\n",
              "    <tr>\n",
              "      <th>2</th>\n",
              "      <td>https://www.cellartracker.com/editnote.asp?iWi...</td>\n",
              "      <td>NV</td>\n",
              "      <td>Rosé - Sparkling</td>\n",
              "      <td>14 Hands</td>\n",
              "      <td>Champagne Blend</td>\n",
              "      <td>NaN</td>\n",
              "      <td>NaN</td>\n",
              "      <td>USA</td>\n",
              "      <td>Washington</td>\n",
              "      <td>Columbia Valley</td>\n",
              "      <td>Columbia Valley</td>\n",
              "    </tr>\n",
              "  </tbody>\n",
              "</table>\n",
              "</div>"
            ],
            "text/plain": [
              "                                             Reviews Vintage  \\\n",
              "0  https://www.cellartracker.com/notes.asp?iWine=...    2006   \n",
              "1  https://www.cellartracker.com/editnote.asp?iWi...    2016   \n",
              "2  https://www.cellartracker.com/editnote.asp?iWi...      NV   \n",
              "\n",
              "               Type  Producer          Variety Designation Vineyard Country  \\\n",
              "0               Red    'Tilda      Syrah Blend   Petulance      NaN     USA   \n",
              "1  Rosé - Sparkling  14 Hands  Champagne Blend         NaN      NaN     USA   \n",
              "2  Rosé - Sparkling  14 Hands  Champagne Blend         NaN      NaN     USA   \n",
              "\n",
              "       Region        Subregion      Appellation  \n",
              "0  Washington  Columbia Valley  Columbia Valley  \n",
              "1  Washington  Columbia Valley    Yakima Valley  \n",
              "2  Washington  Columbia Valley  Columbia Valley  "
            ]
          },
          "metadata": {
            "tags": []
          },
          "execution_count": 33
        }
      ]
    },
    {
      "metadata": {
        "id": "Mdz6p5IXPZYV",
        "colab_type": "code",
        "colab": {
          "base_uri": "https://localhost:8080/",
          "height": 362
        },
        "outputId": "33735b31-130e-4c26-e395-94b09109acb5"
      },
      "cell_type": "code",
      "source": [
        "from pyfm import pylibfm\n",
        "from sklearn.feature_extraction import DictVectorizer\n",
        "import numpy as np\n",
        "train = [\n",
        "\t{\"user\": \"1\", \"item\": \"5\", \"age\": 19},\n",
        "\t{\"user\": \"2\", \"item\": \"43\", \"age\": 33},\n",
        "\t{\"user\": \"3\", \"item\": \"20\", \"age\": 55},\n",
        "\t{\"user\": \"4\", \"item\": \"10\", \"age\": 20},\n",
        "]\n",
        "v = DictVectorizer()\n",
        "\n",
        "\n",
        "\n",
        "\n",
        "\n",
        "X = v.fit_transform(train)\n",
        "print(X.toarray())\n",
        "y = np.repeat(1.0,X.shape[0])\n",
        "fm = pylibfm.FM()\n",
        "fm.fit(X,y)\n",
        "fm.predict(v.transform({\"user\": \"1\", \"item\": \"10\", \"age\": 24}))"
      ],
      "execution_count": 21,
      "outputs": [
        {
          "output_type": "error",
          "ename": "ModuleNotFoundError",
          "evalue": "ignored",
          "traceback": [
            "\u001b[0;31m---------------------------------------------------------------------------\u001b[0m",
            "\u001b[0;31mModuleNotFoundError\u001b[0m                       Traceback (most recent call last)",
            "\u001b[0;32m<ipython-input-21-d8841021ac3e>\u001b[0m in \u001b[0;36m<module>\u001b[0;34m()\u001b[0m\n\u001b[0;32m----> 1\u001b[0;31m \u001b[0;32mfrom\u001b[0m \u001b[0mpyfm\u001b[0m \u001b[0;32mimport\u001b[0m \u001b[0mpylibfm\u001b[0m\u001b[0;34m\u001b[0m\u001b[0m\n\u001b[0m\u001b[1;32m      2\u001b[0m \u001b[0;32mfrom\u001b[0m \u001b[0msklearn\u001b[0m\u001b[0;34m.\u001b[0m\u001b[0mfeature_extraction\u001b[0m \u001b[0;32mimport\u001b[0m \u001b[0mDictVectorizer\u001b[0m\u001b[0;34m\u001b[0m\u001b[0m\n\u001b[1;32m      3\u001b[0m \u001b[0;32mimport\u001b[0m \u001b[0mnumpy\u001b[0m \u001b[0;32mas\u001b[0m \u001b[0mnp\u001b[0m\u001b[0;34m\u001b[0m\u001b[0m\n\u001b[1;32m      4\u001b[0m train = [\n\u001b[1;32m      5\u001b[0m         \u001b[0;34m{\u001b[0m\u001b[0;34m\"user\"\u001b[0m\u001b[0;34m:\u001b[0m \u001b[0;34m\"1\"\u001b[0m\u001b[0;34m,\u001b[0m \u001b[0;34m\"item\"\u001b[0m\u001b[0;34m:\u001b[0m \u001b[0;34m\"5\"\u001b[0m\u001b[0;34m,\u001b[0m \u001b[0;34m\"age\"\u001b[0m\u001b[0;34m:\u001b[0m \u001b[0;36m19\u001b[0m\u001b[0;34m}\u001b[0m\u001b[0;34m,\u001b[0m\u001b[0;34m\u001b[0m\u001b[0m\n",
            "\u001b[0;31mModuleNotFoundError\u001b[0m: No module named 'pyfm'",
            "",
            "\u001b[0;31m---------------------------------------------------------------------------\u001b[0;32m\nNOTE: If your import is failing due to a missing package, you can\nmanually install dependencies using either !pip or !apt.\n\nTo view examples of installing some common dependencies, click the\n\"Open Examples\" button below.\n\u001b[0;31m---------------------------------------------------------------------------\u001b[0m\n"
          ]
        }
      ]
    }
  ]
}