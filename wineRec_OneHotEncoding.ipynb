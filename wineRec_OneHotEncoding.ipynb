{
  "nbformat": 4,
  "nbformat_minor": 0,
  "metadata": {
    "colab": {
      "name": "wineRec-OneHotEncoding.ipynb",
      "version": "0.3.2",
      "provenance": [],
      "include_colab_link": true
    },
    "kernelspec": {
      "name": "python3",
      "display_name": "Python 3"
    }
  },
  "cells": [
    {
      "cell_type": "markdown",
      "metadata": {
        "id": "view-in-github",
        "colab_type": "text"
      },
      "source": [
        "<a href=\"https://colab.research.google.com/github/paulanavarretec/WineRec/blob/master/wineRec_OneHotEncoding.ipynb\" target=\"_parent\"><img src=\"https://colab.research.google.com/assets/colab-badge.svg\" alt=\"Open In Colab\"/></a>"
      ]
    },
    {
      "metadata": {
        "id": "zIrB1qdq90HC",
        "colab_type": "code",
        "colab": {}
      },
      "cell_type": "code",
      "source": [
        "import numpy as np\n",
        "# Example dummy data from Rendle 2010 \n",
        "# http://www.csie.ntu.edu.tw/~b97053/paper/Rendle2010FM.pdf\n",
        "# Stolen from https://github.com/coreylynch/pyFM\n",
        "# Categorical variables (Users, Movies, Last Rated) have been one-hot-encoded \n",
        "x_data = np.matrix([\n",
        "#     Users  |     Movies     |    Movie Ratings   | Time | Last Movies Rated\n",
        "#    A  B  C | TI  NH  SW  ST | TI   NH   SW   ST  |      | TI  NH  SW  ST\n",
        "    [1, 0, 0,  1,  0,  0,  0,   0.3, 0.3, 0.3, 0,     13,   0,  0,  0,  0 ],\n",
        "    [1, 0, 0,  0,  1,  0,  0,   0.3, 0.3, 0.3, 0,     14,   1,  0,  0,  0 ],\n",
        "    [1, 0, 0,  0,  0,  1,  0,   0.3, 0.3, 0.3, 0,     16,   0,  1,  0,  0 ],\n",
        "    [0, 1, 0,  0,  0,  1,  0,   0,   0,   0.5, 0.5,   5,    0,  0,  0,  0 ],\n",
        "    [0, 1, 0,  0,  0,  0,  1,   0,   0,   0.5, 0.5,   8,    0,  0,  1,  0 ],\n",
        "    [0, 0, 1,  1,  0,  0,  0,   0.5, 0,   0.5, 0,     9,    0,  0,  0,  0 ],\n",
        "    [0, 0, 1,  0,  0,  1,  0,   0.5, 0,   0.5, 0,     12,   1,  0,  0,  0 ]\n",
        "])\n",
        "\n",
        "# ratings\n",
        "y_data = np.array([5, 3, 1, 4, 5, 1, 5])\n",
        "\n",
        "# Let's add an axis to make tensoflow happy.\n",
        "y_data.shape += (1, )\n",
        "\n",
        "import tensorflow as tf\n",
        "n, p = x_data.shape\n",
        "\n",
        "# number of latent factors\n",
        "k = 5\n",
        "\n",
        "# design matrix\n",
        "X = tf.placeholder('float', shape=[n, p])\n",
        "# target vector\n",
        "y = tf.placeholder('float', shape=[n, 1])\n",
        "\n",
        "# bias and weights\n",
        "w0 = tf.Variable(tf.zeros([1]))\n",
        "W = tf.Variable(tf.zeros([p]))\n",
        "\n",
        "# interaction factors, randomly initialized \n",
        "V = tf.Variable(tf.random_normal([k, p], stddev=0.01))\n",
        "\n",
        "# estimate of y, initialized to 0.\n",
        "y_hat = tf.Variable(tf.zeros([n, 1]))"
      ],
      "execution_count": 0,
      "outputs": []
    },
    {
      "metadata": {
        "id": "sBsXhd7TEDL-",
        "colab_type": "text"
      },
      "cell_type": "markdown",
      "source": [
        ""
      ]
    }
  ]
}